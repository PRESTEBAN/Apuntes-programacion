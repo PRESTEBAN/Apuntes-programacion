{
 "cells": [
  {
   "cell_type": "code",
   "execution_count": 5,
   "metadata": {},
   "outputs": [],
   "source": [
    "x = 9\n",
    "y = 3"
   ]
  },
  {
   "cell_type": "code",
   "execution_count": 6,
   "metadata": {},
   "outputs": [
    {
     "name": "stdout",
     "output_type": "stream",
     "text": [
      "3\n"
     ]
    }
   ],
   "source": [
    "print(y)"
   ]
  },
  {
   "cell_type": "code",
   "execution_count": 7,
   "metadata": {},
   "outputs": [
    {
     "name": "stdout",
     "output_type": "stream",
     "text": [
      "12\n"
     ]
    }
   ],
   "source": [
    "suma = x + y\n",
    "print(suma)"
   ]
  },
  {
   "cell_type": "code",
   "execution_count": 8,
   "metadata": {},
   "outputs": [
    {
     "name": "stdout",
     "output_type": "stream",
     "text": [
      "12\n"
     ]
    }
   ],
   "source": [
    "print(x+y)"
   ]
  },
  {
   "cell_type": "code",
   "execution_count": 10,
   "metadata": {},
   "outputs": [
    {
     "name": "stdout",
     "output_type": "stream",
     "text": [
      "suma: x + y =  12\n"
     ]
    }
   ],
   "source": [
    "print(\"suma: x + y = \", x+y)"
   ]
  },
  {
   "cell_type": "code",
   "execution_count": 11,
   "metadata": {},
   "outputs": [
    {
     "name": "stdout",
     "output_type": "stream",
     "text": [
      "suma 9 + 3 = 12\n"
     ]
    }
   ],
   "source": [
    "print(f'suma {x} + {y} = {x+y}' )"
   ]
  },
  {
   "cell_type": "code",
   "execution_count": 14,
   "metadata": {},
   "outputs": [
    {
     "name": "stdout",
     "output_type": "stream",
     "text": [
      "Operador resta - \n",
      "6\n",
      "La resta x - y = 6\n",
      "La resta 9 - 3 = 6\n"
     ]
    }
   ],
   "source": [
    "print(\"Operador resta - \")\n",
    "resta = x - y\n",
    "print(resta) #Varaiable resta\n",
    "print(\"La resta x - y =\", x-y) # la resta x - y = resta\n",
    "print(f\"La resta {x} - {y} = {x-y}\")#La resta 9 - 3 = 6"
   ]
  },
  {
   "cell_type": "code",
   "execution_count": 15,
   "metadata": {},
   "outputs": [
    {
     "name": "stdout",
     "output_type": "stream",
     "text": [
      "Operador multiplicacion * \n",
      "27\n",
      "La multiplicacion x * y = 27\n",
      "La multiplicacion 9 * 3 = 27\n"
     ]
    }
   ],
   "source": [
    "print(\"Operador multiplicacion * \")\n",
    "multiplicacion = x * y\n",
    "print(multiplicacion) #Varaiable multiplicacion\n",
    "print(\"La multiplicacion x * y =\", x*y) # la multiplicacion x * y = multiplicacion\n",
    "print(f\"La multiplicacion {x} * {y} = {x*y}\")#La multiplicacion 9 * 3 = 6"
   ]
  },
  {
   "cell_type": "code",
   "execution_count": 16,
   "metadata": {},
   "outputs": [
    {
     "name": "stdout",
     "output_type": "stream",
     "text": [
      "Operador division / \n",
      "3.0\n",
      "La disvision x / y = 3.0\n",
      "La division 9 / 3 = 3.0\n"
     ]
    }
   ],
   "source": [
    "print(\"Operador division / \")\n",
    "division = x / y\n",
    "print(division) #Varaiable division\n",
    "print(\"La disvision x / y =\", x/y) # la division x / y = division\n",
    "print(f\"La division {x} / {y} = {x/y}\")#La division 9 / 3 = 6"
   ]
  },
  {
   "cell_type": "markdown",
   "metadata": {},
   "source": [
    "## OPERADOR MÓDULO \n",
    "El operador %, permite encontrar el módulo entre dos números. Es decir permite obtener el resto de una division entre dos números. Por ejemplo, al dividir 10 entre 3, el conciente sería 3 y el resto 1."
   ]
  },
  {
   "cell_type": "code",
   "execution_count": 18,
   "metadata": {},
   "outputs": [
    {
     "name": "stdout",
     "output_type": "stream",
     "text": [
      "2\n"
     ]
    }
   ],
   "source": [
    "a= 20\n",
    "b= 3\n",
    "residuo= a%b\n",
    "print(residuo)"
   ]
  },
  {
   "cell_type": "markdown",
   "metadata": {},
   "source": [
    "## OPERADOR EXPONENTE\n"
   ]
  },
  {
   "cell_type": "code",
   "execution_count": null,
   "metadata": {},
   "outputs": [],
   "source": [
    "a=20\n",
    "b=3\n",
    "resultado=a**b\n",
    "print(resultado)"
   ]
  },
  {
   "cell_type": "markdown",
   "metadata": {},
   "source": [
    "## ORDEN DE PRIORIDAD DE LOS OPERADORES ARITMÉTICOS\n",
    "\n",
    "1. Peréntesis -> ()\n",
    "2. Exponente -> **\n",
    "3. Negación -> -x\n",
    "4. Multiplicación, división, cociente, módulo -> * / // %\n",
    "5. Suma, resta -> + -"
   ]
  },
  {
   "cell_type": "code",
   "execution_count": 19,
   "metadata": {},
   "outputs": [
    {
     "name": "stdout",
     "output_type": "stream",
     "text": [
      "80\n",
      "53\n",
      "10.4\n",
      "-16\n"
     ]
    }
   ],
   "source": [
    "a=10\n",
    "b=5\n",
    "c=3\n",
    "d=2\n",
    "e = 4\n",
    "\n",
    "print(a*(b+c))\n",
    "print(a*b+c)\n",
    "print(c*c+d/b+b%e)\n",
    "print(-d**e)"
   ]
  },
  {
   "cell_type": "markdown",
   "metadata": {},
   "source": [
    "## OPERADOR AND\n",
    "\n",
    "El operador AND evalua los valores a analizar con TRUE, en caso de ser True los dos valores, devolverá TRUE, caso contrario Devolverá False"
   ]
  },
  {
   "cell_type": "code",
   "execution_count": 27,
   "metadata": {},
   "outputs": [
    {
     "name": "stdout",
     "output_type": "stream",
     "text": [
      "True\n",
      "False\n",
      "False\n",
      "False\n",
      "False\n",
      "False\n",
      "True\n",
      "True\n",
      "False\n"
     ]
    }
   ],
   "source": [
    "a =  True\n",
    "b = False\n",
    "\n",
    "print(a and a)\n",
    "print (b and a)\n",
    "print (a and b)\n",
    "print (b and b) # falso y falso = false, true y true = true, true y false = false\n",
    "\n",
    "\n",
    "print(True and True and False)\n",
    "print(False and False and False)\n",
    "\n",
    "print(1==1 and 2==2)\n",
    "print( 5>1 and 2<=2)\n",
    "print(5<=1 and 2==2)"
   ]
  },
  {
   "cell_type": "markdown",
   "metadata": {},
   "source": [
    "## OPERADOR OR\n",
    "\n",
    "El operador OR evalúa los valores de las variables, cuando al menos algunos de los valores sean TRUE, devolverá TRUE. Cuando los valores a analizar sean todos FALSE devolverá FALSE."
   ]
  },
  {
   "cell_type": "code",
   "execution_count": 37,
   "metadata": {},
   "outputs": [
    {
     "name": "stdout",
     "output_type": "stream",
     "text": [
      "True\n",
      "True\n",
      "True\n",
      "False\n",
      "True\n",
      "False\n",
      "True\n",
      "False\n",
      "True\n",
      "True\n"
     ]
    }
   ],
   "source": [
    "a = True\n",
    "b = False\n",
    "\n",
    "print(a or a)\n",
    "print(a or b)\n",
    "print(b or a)\n",
    "print(b or b)\n",
    "\n",
    "condicion = b or a\n",
    "print(condicion)\n",
    "\n",
    "condicion = b or b\n",
    "print(condicion)\n",
    "\n",
    "\n",
    "mayor = 5>3\n",
    "menorIgual = 10<=20\n",
    "print(mayor or menorIgual)\n",
    "\n",
    "mayor = 3>5\n",
    "menorIgual = 10<=2\n",
    "print(mayor or menorIgual)\n",
    "\n",
    "mayor = 3>5\n",
    "menorIgual = 10<=2\n",
    "igual = \"pablo\" == \"pablo\"\n",
    "print(mayor or menorIgual or igual) \n",
    "print(10<=2 or \"pablo\"==\"pablo\") "
   ]
  },
  {
   "cell_type": "markdown",
   "metadata": {},
   "source": [
    "## OPERADOR NOT \n",
    "Invierte el valor de TRUE a FALSE y de FALSE a TRUE"
   ]
  },
  {
   "cell_type": "code",
   "execution_count": 44,
   "metadata": {},
   "outputs": [
    {
     "name": "stdout",
     "output_type": "stream",
     "text": [
      "False\n",
      "True\n",
      "False\n",
      "False\n",
      "True\n"
     ]
    }
   ],
   "source": [
    "a= True\n",
    "b= False\n",
    "mayor =not 3>5\n",
    "menorIgual = not 10 <= 2\n",
    "igual = \"pablo\" ==\"pablo\"\n",
    "print(not a)\n",
    "print(not b)\n",
    "print(10<=2 or not \"pablo\"==\"pablo\") \n",
    "print(not 10<=2 and not \"pablo\"==\"pablo\") \n",
    "print(mayor or menorIgual and igual)\n",
    "print((mayor or menorIgual) and igual)"
   ]
  }
 ],
 "metadata": {
  "kernelspec": {
   "display_name": "Python 3",
   "language": "python",
   "name": "python3"
  },
  "language_info": {
   "codemirror_mode": {
    "name": "ipython",
    "version": 3
   },
   "file_extension": ".py",
   "mimetype": "text/x-python",
   "name": "python",
   "nbconvert_exporter": "python",
   "pygments_lexer": "ipython3",
   "version": "3.12.6"
  }
 },
 "nbformat": 4,
 "nbformat_minor": 2
}
